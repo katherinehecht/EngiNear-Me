{
 "cells": [
  {
   "cell_type": "code",
   "execution_count": null,
   "metadata": {
    "collapsed": true
   },
   "outputs": [],
   "source": [
    "# declare dorm locations with name : [x, y] corresponding to locations on graph\n",
    "locations = {\n",
    "    'WF' : [6, 7],\n",
    "    'Cavanaugh': [5, 6],\n",
    "    'McGlinn':[7,8],\n",
    "    'PW':[7,8],\n",
    "    'PE':[7,8],\n",
    "    'Flaherty':[7,8],\n",
    "    'Farley':[7,8],\n",
    "    'Lions':[7,8],\n",
    "    'Lewis':[7,8],\n",
    "    'Walsh':[7,8],\n",
    "    'Howard':[7,8],\n",
    "    'BP':[7,8],\n",
    "    'Badin':[7,8],\n",
    "    'Ryan':[7,8]\n",
    "}\n",
    "# Plot the dorms on a Map of campus\n",
    "#def plot_dorm(data):\n",
    " #   for dorm in data[trait][dorm]:\n",
    "        \n",
    "            \n",
    "        "
   ]
  }
 ],
 "metadata": {
  "kernelspec": {
   "display_name": "Python 3",
   "language": "python",
   "name": "python3"
  },
  "language_info": {
   "codemirror_mode": {
    "name": "ipython",
    "version": 3
   },
   "file_extension": ".py",
   "mimetype": "text/x-python",
   "name": "python",
   "nbconvert_exporter": "python",
   "pygments_lexer": "ipython3",
   "version": "3.6.3"
  }
 },
 "nbformat": 4,
 "nbformat_minor": 2
}
